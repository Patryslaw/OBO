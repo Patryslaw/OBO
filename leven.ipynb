{
 "cells": [
  {
   "cell_type": "code",
   "execution_count": 1,
   "id": "7cd60bb1",
   "metadata": {},
   "outputs": [
    {
     "name": "stdout",
     "output_type": "stream",
     "text": [
      "[0, 1, 2, 3]\n",
      "[1, 1, 2, 3]\n",
      "[2, 2, 2, 3]\n",
      "[3, 3, 3, 3]\n",
      "3\n",
      "[0, 1, 2, 3]\n",
      "[1, 2, 3, 4]\n",
      "[2, 3, 4, 5]\n",
      "[3, 4, 5, 6]\n",
      "6\n",
      "[0, 2, 4, 6]\n",
      "[2, 1, 3, 5]\n",
      "[4, 3, 2, 4]\n",
      "[6, 5, 4, 3]\n",
      "3\n"
     ]
    }
   ],
   "source": [
    "def iterative_levenshtein(s, t, costs=(1, 1, 1)):\n",
    "    \"\"\" \n",
    "        iterative_levenshtein(s, t) -> ldist\n",
    "        ldist is the Levenshtein distance between the strings \n",
    "        s and t.\n",
    "        For all i and j, dist[i,j] will contain the Levenshtein \n",
    "        distance between the first i characters of s and the \n",
    "        first j characters of t\n",
    "        \n",
    "        costs: a tuple or a list with three integers (d, i, s)\n",
    "               where d defines the costs for a deletion\n",
    "                     i defines the costs for an insertion and\n",
    "                     s defines the costs for a substitution\n",
    "    \"\"\"\n",
    "\n",
    "    rows = len(s)+1\n",
    "    cols = len(t)+1\n",
    "    deletes, inserts, substitutes = costs\n",
    "    \n",
    "    dist = [[0 for x in range(cols)] for x in range(rows)]\n",
    "\n",
    "    # source prefixes can be transformed into empty strings \n",
    "    # by deletions:\n",
    "    for row in range(1, rows):\n",
    "        dist[row][0] = row * deletes\n",
    "\n",
    "    # target prefixes can be created from an empty source string\n",
    "    # by inserting the characters\n",
    "    for col in range(1, cols):\n",
    "        dist[0][col] = col * inserts\n",
    "        \n",
    "    for col in range(1, cols):\n",
    "        for row in range(1, rows):\n",
    "            if s[row-1] == t[col-1]:\n",
    "                cost = 0\n",
    "            else:\n",
    "                cost = substitutes\n",
    "            dist[row][col] = min(dist[row-1][col] + deletes,\n",
    "                                 dist[row][col-1] + inserts,\n",
    "                                 dist[row-1][col-1] + cost) # substitution\n",
    "\n",
    "    for r in range(rows):\n",
    "        print(dist[r])\n",
    "    \n",
    " \n",
    "    return dist[row][col]\n",
    "\n",
    "# default:\n",
    "print(iterative_levenshtein(\"abc\", \"xxx\"))\n",
    "# the costs for substitions are twice as high as inserts and delets:\n",
    "print(iterative_levenshtein(\"abc\", \"xyz\", costs=(1, 1, 2)))\n",
    "# inserts and deletes are twice as high as substitutes\n",
    "print(iterative_levenshtein(\"abc\", \"xyz\", costs=(2, 2, 1)))"
   ]
  },
  {
   "cell_type": "code",
   "execution_count": 2,
   "id": "8139b386",
   "metadata": {},
   "outputs": [
    {
     "name": "stdout",
     "output_type": "stream",
     "text": [
      "['401', '101', '1', '201', '402', '501', '301', '102', '2', '403', '202', '404', '502', '302', '103', '3', '303', '203', '405']\n"
     ]
    }
   ],
   "source": [
    "lista1 = [401, 101, 1, 201, 402, 501, 301, 102, 2, 403, 202, 404, 502, 302, 103, 3, 303, 203, 405]\n",
    "lev_list1 = []\n",
    "\n",
    "for element in lista1:\n",
    "    x = lambda element : str(element)\n",
    "    lev_list1.append(x(element))\n",
    "print(lev_list1)\n"
   ]
  },
  {
   "cell_type": "code",
   "execution_count": 3,
   "id": "b8bda58c",
   "metadata": {},
   "outputs": [
    {
     "name": "stdout",
     "output_type": "stream",
     "text": [
      "['501', '601', '401', '1', '101', '502', '402', '602', '301', '102', '2', '201', '3', '103', '4', '503', '603', '403', '104', '302', '5', '202', '504']\n"
     ]
    }
   ],
   "source": [
    "lista2  =[501, 601, 401, 1, 101, 502, 402, 602, 301, 102, 2, 201, 3, 103, 4, 503, 603, 403, 104, 302, 5, 202, 504]\n",
    "\n",
    "lev_list2 = []\n",
    "\n",
    "for element in lista2:\n",
    "    x = lambda element : str(element)\n",
    "    lev_list2.append(x(element))\n",
    "print(lev_list2)"
   ]
  },
  {
   "cell_type": "code",
   "execution_count": 4,
   "id": "4ba5d510",
   "metadata": {},
   "outputs": [
    {
     "name": "stdout",
     "output_type": "stream",
     "text": [
      "[0, 1, 2, 3, 4, 5, 6, 7, 8, 9, 10, 11, 12, 13, 14, 15, 16, 17, 18, 19, 20, 21, 22, 23]\n",
      "[1, 1, 2, 2, 3, 4, 5, 6, 7, 8, 9, 10, 11, 12, 13, 14, 15, 16, 17, 18, 19, 20, 21, 22]\n",
      "[2, 2, 2, 3, 3, 3, 4, 5, 6, 7, 8, 9, 10, 11, 12, 13, 14, 15, 16, 17, 18, 19, 20, 21]\n",
      "[3, 3, 3, 3, 3, 4, 4, 5, 6, 7, 8, 9, 10, 11, 12, 13, 14, 15, 16, 17, 18, 19, 20, 21]\n",
      "[4, 4, 4, 4, 4, 4, 5, 5, 6, 7, 8, 9, 9, 10, 11, 12, 13, 14, 15, 16, 17, 18, 19, 20]\n",
      "[5, 5, 5, 5, 5, 5, 5, 5, 6, 7, 8, 9, 10, 10, 11, 12, 13, 14, 15, 16, 17, 18, 19, 20]\n",
      "[6, 5, 6, 6, 6, 6, 6, 6, 6, 7, 8, 9, 10, 11, 11, 12, 13, 14, 15, 16, 17, 18, 19, 20]\n",
      "[7, 6, 6, 7, 7, 7, 7, 7, 7, 6, 7, 8, 9, 10, 11, 12, 13, 14, 15, 16, 17, 18, 19, 20]\n",
      "[8, 7, 7, 7, 8, 8, 8, 8, 8, 7, 6, 7, 8, 9, 10, 11, 12, 13, 14, 15, 16, 17, 18, 19]\n",
      "[9, 8, 8, 8, 8, 9, 9, 9, 9, 8, 7, 6, 7, 8, 9, 10, 11, 12, 13, 14, 15, 16, 17, 18]\n",
      "[10, 9, 9, 9, 9, 9, 10, 10, 10, 9, 8, 7, 7, 8, 9, 10, 11, 12, 12, 13, 14, 15, 16, 17]\n",
      "[11, 10, 10, 10, 10, 10, 10, 11, 11, 10, 9, 8, 8, 8, 9, 10, 11, 12, 13, 13, 14, 15, 15, 16]\n",
      "[12, 11, 11, 11, 11, 11, 11, 11, 12, 11, 10, 9, 9, 9, 9, 10, 11, 12, 13, 14, 14, 15, 16, 16]\n",
      "[13, 12, 12, 12, 12, 12, 11, 12, 12, 12, 11, 10, 10, 10, 10, 10, 11, 12, 13, 14, 15, 15, 16, 17]\n",
      "[14, 13, 13, 13, 13, 13, 12, 12, 13, 13, 12, 11, 11, 11, 11, 11, 11, 12, 13, 14, 14, 15, 16, 17]\n",
      "[15, 14, 14, 14, 14, 14, 13, 13, 13, 14, 13, 12, 12, 12, 11, 12, 12, 12, 13, 14, 15, 15, 16, 17]\n",
      "[16, 15, 15, 15, 15, 15, 14, 14, 14, 14, 14, 13, 13, 12, 12, 12, 13, 13, 13, 14, 15, 16, 16, 17]\n",
      "[17, 16, 16, 16, 16, 16, 15, 15, 15, 15, 15, 14, 14, 13, 13, 13, 13, 14, 14, 14, 15, 16, 17, 17]\n",
      "[18, 17, 17, 17, 17, 17, 16, 16, 16, 16, 16, 15, 15, 14, 14, 14, 14, 14, 15, 15, 15, 16, 17, 18]\n",
      "[19, 18, 18, 18, 18, 18, 17, 17, 17, 17, 17, 16, 16, 15, 15, 15, 15, 15, 15, 16, 16, 16, 17, 18]\n",
      "18\n"
     ]
    }
   ],
   "source": [
    "print(iterative_levenshtein(lev_list1, lev_list2))"
   ]
  },
  {
   "cell_type": "code",
   "execution_count": null,
   "id": "de189ae7",
   "metadata": {},
   "outputs": [],
   "source": []
  }
 ],
 "metadata": {
  "kernelspec": {
   "display_name": "Python 3 (Spyder)",
   "language": "python3",
   "name": "python3"
  },
  "language_info": {
   "codemirror_mode": {
    "name": "ipython",
    "version": 3
   },
   "file_extension": ".py",
   "mimetype": "text/x-python",
   "name": "python",
   "nbconvert_exporter": "python",
   "pygments_lexer": "ipython3",
   "version": "3.9.7"
  }
 },
 "nbformat": 4,
 "nbformat_minor": 5
}
